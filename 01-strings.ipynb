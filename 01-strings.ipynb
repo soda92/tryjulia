{
 "cells": [
  {
   "cell_type": "code",
   "execution_count": 1,
   "metadata": {},
   "outputs": [
    {
     "data": {
      "text/plain": [
       "\"I am a string.\""
      ]
     },
     "metadata": {},
     "output_type": "display_data"
    }
   ],
   "source": [
    "s1 = \"I am a string.\""
   ]
  },
  {
   "cell_type": "code",
   "execution_count": 2,
   "metadata": {},
   "outputs": [
    {
     "data": {
      "text/plain": [
       "\"I am also a string. \""
      ]
     },
     "metadata": {},
     "output_type": "display_data"
    }
   ],
   "source": [
    "s2 = \"\"\"I am also a string. \"\"\""
   ]
  },
  {
   "cell_type": "code",
   "execution_count": 3,
   "metadata": {},
   "outputs": [
    {
     "data": {
      "text/plain": [
       "Char"
      ]
     },
     "metadata": {},
     "output_type": "display_data"
    }
   ],
   "source": [
    "typeof('a')"
   ]
  },
  {
   "cell_type": "code",
   "execution_count": 4,
   "metadata": {},
   "outputs": [
    {
     "ename": "ErrorException",
     "evalue": "syntax: character literal contains multiple characters",
     "output_type": "error",
     "traceback": [
      "syntax: character literal contains multiple characters\n",
      "\n",
      "Stacktrace:\n",
      "  [1] top-level scope\n",
      "    @ d:\\src\\tryjulia\\01-strings.ipynb:1\n",
      "  [2] eval\n",
      "    @ .\\boot.jl:373 [inlined]\n",
      "  [3] include_string(mapexpr::typeof(REPL.softscope), mod::Module, code::String, filename::String)\n",
      "    @ Base .\\loading.jl:1196\n",
      "  [4] #invokelatest#2\n",
      "    @ .\\essentials.jl:716 [inlined]\n",
      "  [5] invokelatest\n",
      "    @ .\\essentials.jl:714 [inlined]\n",
      "  [6] (::VSCodeServer.var\"#158#159\"{VSCodeServer.NotebookRunCellArguments, String})()\n",
      "    @ VSCodeServer c:\\Users\\18463\\.vscode\\extensions\\julialang.language-julia-1.6.5\\scripts\\packages\\VSCodeServer\\src\\serve_notebook.jl:19\n",
      "  [7] withpath(f::VSCodeServer.var\"#158#159\"{VSCodeServer.NotebookRunCellArguments, String}, path::String)\n",
      "    @ VSCodeServer c:\\Users\\18463\\.vscode\\extensions\\julialang.language-julia-1.6.5\\scripts\\packages\\VSCodeServer\\src\\repl.jl:184\n",
      "  [8] notebook_runcell_request(conn::VSCodeServer.JSONRPC.JSONRPCEndpoint{Base.PipeEndpoint, Base.PipeEndpoint}, params::VSCodeServer.NotebookRunCellArguments)\n",
      "    @ VSCodeServer c:\\Users\\18463\\.vscode\\extensions\\julialang.language-julia-1.6.5\\scripts\\packages\\VSCodeServer\\src\\serve_notebook.jl:13\n",
      "  [9] dispatch_msg(x::VSCodeServer.JSONRPC.JSONRPCEndpoint{Base.PipeEndpoint, Base.PipeEndpoint}, dispatcher::VSCodeServer.JSONRPC.MsgDispatcher, msg::Dict{String, Any})\n",
      "    @ VSCodeServer.JSONRPC c:\\Users\\18463\\.vscode\\extensions\\julialang.language-julia-1.6.5\\scripts\\packages\\JSONRPC\\src\\typed.jl:67\n",
      " [10] serve_notebook(pipename::String; crashreporting_pipename::String)\n",
      "    @ VSCodeServer c:\\Users\\18463\\.vscode\\extensions\\julialang.language-julia-1.6.5\\scripts\\packages\\VSCodeServer\\src\\serve_notebook.jl:114\n",
      " [11] top-level scope\n",
      "    @ c:\\Users\\18463\\.vscode\\extensions\\julialang.language-julia-1.6.5\\scripts\\notebook\\notebook.jl:14\n",
      " [12] include(mod::Module, _path::String)\n",
      "    @ Base .\\Base.jl:418\n",
      " [13] exec_options(opts::Base.JLOptions)\n",
      "    @ Base .\\client.jl:292\n",
      " [14] _start()\n",
      "    @ Base .\\client.jl:495"
     ]
    }
   ],
   "source": [
    "'We will get an error here'"
   ]
  },
  {
   "cell_type": "code",
   "execution_count": null,
   "metadata": {},
   "outputs": [],
   "source": []
  }
 ],
 "metadata": {
  "kernelspec": {
   "display_name": "Julia 1.7.2",
   "language": "julia",
   "name": "julia-1.7"
  },
  "language_info": {
   "file_extension": ".jl",
   "mimetype": "application/julia",
   "name": "julia",
   "version": "1.7.2"
  },
  "orig_nbformat": 4
 },
 "nbformat": 4,
 "nbformat_minor": 2
}
